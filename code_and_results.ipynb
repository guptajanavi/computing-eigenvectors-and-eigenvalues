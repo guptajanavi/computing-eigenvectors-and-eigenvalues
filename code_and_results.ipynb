{
 "cells": [
  {
   "cell_type": "code",
   "execution_count": 131,
   "id": "7d534d07-42bb-42e6-a534-0042203117df",
   "metadata": {},
   "outputs": [],
   "source": [
    "using LinearAlgebra\n",
    "using PrettyTables"
   ]
  },
  {
   "cell_type": "code",
   "execution_count": 132,
   "id": "c10cf096-3309-4f44-99a9-9e1cec07e418",
   "metadata": {},
   "outputs": [
    {
     "data": {
      "text/plain": [
       "qr_method (generic function with 1 method)"
      ]
     },
     "execution_count": 132,
     "metadata": {},
     "output_type": "execute_result"
    }
   ],
   "source": [
    "# Function to approximate the leading eigenvalue of a matrix using the QR method\n",
    "function qr_method(A, max_iter)\n",
    "    # Initialize A_k with the input matrix A\n",
    "    A_k = copy(A)\n",
    "\n",
    "    # Iterate up to a maximum number of iterations\n",
    "    for k = 1:max_iter\n",
    "        # Perform QR decomposition on A_k\n",
    "        Q, R = qr(A_k)\n",
    "        # Form the next matrix A_k by multiplying R and Q\n",
    "        A_k = R * Q\n",
    "    end\n",
    "\n",
    "    # # Return the leading eigenvalue, which is the first diagonal element of A_k\n",
    "    return A_k[1,1]\n",
    "end"
   ]
  },
  {
   "cell_type": "code",
   "execution_count": 133,
   "id": "9048bc8b-6fce-4468-8a38-68a67ed60112",
   "metadata": {},
   "outputs": [
    {
     "data": {
      "text/plain": [
       "power_method (generic function with 1 method)"
      ]
     },
     "execution_count": 133,
     "metadata": {},
     "output_type": "execute_result"
    }
   ],
   "source": [
    "# Define a function to compute the leading eigenvalue using the Power Method\n",
    "function power_method(A, max_iter)\n",
    "    # Determine the size of the matrix A and initialize a random vector of this size \n",
    "    n, _ = size(A)\n",
    "    v = rand(n)  # Start with a random vector\n",
    "    v = v / norm(v)  # Normalize the vector\n",
    "\n",
    "    # Iterate for a maximum number of iterations or until convergence\n",
    "    for _ = 1:max_iter\n",
    "        # Multiply the vector by the matrix A\n",
    "        v_new = A * v\n",
    "        # Normalize the resulting vector\n",
    "        v_new = v_new / norm(v_new)\n",
    "        # Update the vector for the next iteration\n",
    "        v = v_new\n",
    "    end\n",
    "\n",
    "    # Calculate the leading eigenvalue which is done by the Rayleigh quotient: (v'Av) / (v'v)\n",
    "    eigenvalue = dot(A * v, v) / dot(v, v)\n",
    "    return eigenvalue, v\n",
    "end"
   ]
  },
  {
   "cell_type": "code",
   "execution_count": 134,
   "metadata": {},
   "outputs": [
    {
     "data": {
      "text/plain": [
       "deflation (generic function with 1 method)"
      ]
     },
     "execution_count": 134,
     "metadata": {},
     "output_type": "execute_result"
    }
   ],
   "source": [
    "# Function to find all eigenvalues and eigenvectors of a symmetric matrix using deflation\n",
    "function deflation(A, max_iter)\n",
    "    k = size(A, 1)\n",
    "    eigenvalues = []\n",
    "    eigenvectors = []\n",
    "\n",
    "    # Main loop for finding all eigenvalues and eigenvectors\n",
    "    for i = 1:k\n",
    "        eigenvalue, eigenvector = power_method(A, max_iter)\n",
    "        push!(eigenvalues, eigenvalue)\n",
    "        push!(eigenvectors, eigenvector)\n",
    "        A = A - eigenvalue * eigenvector * transpose(eigenvector)\n",
    "    end\n",
    "\n",
    "    return eigenvalues, eigenvectors\n",
    "end"
   ]
  },
  {
   "cell_type": "code",
   "execution_count": 135,
   "metadata": {},
   "outputs": [
    {
     "data": {
      "text/plain": [
       "singular_values_vectors (generic function with 1 method)"
      ]
     },
     "execution_count": 135,
     "metadata": {},
     "output_type": "execute_result"
    }
   ],
   "source": [
    "#Function to obtain all the singular values and singular vectors\n",
    "function singular_values_vectors(A, max_iter)\n",
    "\n",
    "v_eigenvalue, v_eigenvector = power_method(transpose(A) * A, max_iter)\n",
    "singular_values, v_singular_vectors = deflation(transpose(A) * A, max_iter)\n",
    "singular_values = sqrt.(singular_values)\n",
    "\n",
    "u_eigenvalue, u_eigenvector = power_method(A * transpose(A), max_iter)\n",
    "_, u_singular_vectors = deflation(A * transpose(A), max_iter)\n",
    "\n",
    "return singular_values, v_singular_vectors, u_singular_vectors\n",
    "end"
   ]
  },
  {
   "cell_type": "code",
   "execution_count": 136,
   "metadata": {},
   "outputs": [
    {
     "data": {
      "text/plain": [
       "rand_matrix_generator (generic function with 1 method)"
      ]
     },
     "execution_count": 136,
     "metadata": {},
     "output_type": "execute_result"
    }
   ],
   "source": [
    "#Function to generate a random symmetric matrix A and A^TA\n",
    "function rand_matrix_generator(size, min_val, max_val)\n",
    "    X = rand(min_val : max_val, size, size)\n",
    "    A = transpose(X) * X\n",
    "    return A\n",
    "end "
   ]
  },
  {
   "cell_type": "code",
   "execution_count": 137,
   "metadata": {},
   "outputs": [
    {
     "data": {
      "text/plain": [
       "display_computations (generic function with 1 method)"
      ]
     },
     "execution_count": 137,
     "metadata": {},
     "output_type": "execute_result"
    }
   ],
   "source": [
    "#Function to compute and display all the eigenvalues and eigenvectors\n",
    "function display_computations(A, max_iter_qr, max_iter_pm)\n",
    "    #get leading eigenvalue from QR method\n",
    "    eigenvalue_qr = qr_method(A, max_iter_qr)\n",
    "    print(\"A's leading eigenvalue (QR method)\")\n",
    "    display(eigenvalue_qr)\n",
    "\n",
    "    #get leading eigenvector and eigenvalue from the power method\n",
    "    eigenvalue_pm, eigenvector_pm = power_method(A, max_iter_pm)\n",
    "    print(\"A's leading eigenvector (Power method):\")\n",
    "    display(eigenvector_pm)\n",
    "    print(\"A's leading eigenvalue (Power method and Raleigh quotient):\")\n",
    "    display(eigenvalue_pm)\n",
    "\n",
    "    #get all eigenvalues and eigenvectors\n",
    "    eigenvalues, eigenvectors = deflation(A, max_iter_pm)\n",
    "    println(\"A's eigenvectors and corresponding eigenvalues (Deflation):\")\n",
    "    for i in range(1, length(eigenvectors))\n",
    "        print(\"Eigenvector number \" * string(i) * \" is:\")\n",
    "        display(eigenvectors[i, 1])\n",
    "        println(\"And has corresponding eigenvalue:\")\n",
    "        display(eigenvalues[i, 1])\n",
    "        println(\"\")\n",
    "    end\n",
    "\n",
    "    #get all singular vectors and singular values\n",
    "    singular_values, left_singular_vectors, right_singular_vectors = singular_values_vectors(A, max_iter_pm)\n",
    "    println(\"A's singular vectors for matrix V in A's SVD are:\")\n",
    "    for i in range(1, length(left_singular_vectors))\n",
    "        println(\"Singular vector number \" * string(i) * \" is:\")\n",
    "        display(left_singular_vectors[i, 1])\n",
    "    end    \n",
    "    println(\"A's singular vectors for matrix U in A's SVD are:\")\n",
    "    for i in range(1, length(right_singular_vectors))\n",
    "        println(\"Singular vector number \" * string(i) * \" is:\")\n",
    "        display(right_singular_vectors[i, 1])\n",
    "    end\n",
    "    println(\"A's singular values are:\")\n",
    "    display(singular_values)\n",
    "\n",
    "    println(\"-----------------------------------------------------\")\n",
    "    println(\"Julia's Output to compare\")\n",
    "    display(eigvals(A))\n",
    "    display(eigvecs(A))\n",
    "    display(svd(A))\n",
    "    end"
   ]
  },
  {
   "cell_type": "code",
   "execution_count": 139,
   "metadata": {},
   "outputs": [
    {
     "name": "stdout",
     "output_type": "stream",
     "text": [
      "A's leading eigenvalue (QR method)"
     ]
    },
    {
     "data": {
      "text/plain": [
       "3706.6197377438066"
      ]
     },
     "metadata": {},
     "output_type": "display_data"
    },
    {
     "name": "stdout",
     "output_type": "stream",
     "text": [
      "A's leading eigenvector (Power method):"
     ]
    },
    {
     "data": {
      "text/plain": [
       "8-element Vector{Float64}:\n",
       " 0.3513608224753594\n",
       " 0.37638183990226576\n",
       " 0.3237371058940461\n",
       " 0.32864052652044595\n",
       " 0.28750607067702877\n",
       " 0.2945645790232591\n",
       " 0.3102680156972951\n",
       " 0.5063375358008766"
      ]
     },
     "metadata": {},
     "output_type": "display_data"
    },
    {
     "name": "stdout",
     "output_type": "stream",
     "text": [
      "A's leading eigenvalue (Power method and Raleigh quotient):"
     ]
    },
    {
     "data": {
      "text/plain": [
       "3706.6197377438125"
      ]
     },
     "metadata": {},
     "output_type": "display_data"
    },
    {
     "name": "stdout",
     "output_type": "stream",
     "text": [
      "A's eigenvectors and corresponding eigenvalues (Deflation):\n",
      "Eigenvector number 1 is:"
     ]
    },
    {
     "data": {
      "text/plain": [
       "8-element Vector{Float64}:\n",
       " 0.351360822475992\n",
       " 0.3763818399045702\n",
       " 0.3237371058940415\n",
       " 0.32864052652215336\n",
       " 0.28750607067694306\n",
       " 0.2945645790215287\n",
       " 0.31026801569583873\n",
       " 0.5063375357995669"
      ]
     },
     "metadata": {},
     "output_type": "display_data"
    },
    {
     "name": "stdout",
     "output_type": "stream",
     "text": [
      "And has corresponding eigenvalue:\n"
     ]
    },
    {
     "data": {
      "text/plain": [
       "3706.619737743812"
      ]
     },
     "metadata": {},
     "output_type": "display_data"
    },
    {
     "name": "stdout",
     "output_type": "stream",
     "text": [
      "\n",
      "Eigenvector number 2 is:"
     ]
    },
    {
     "data": {
      "text/plain": [
       "8-element Vector{Float64}:\n",
       "  0.14571551613931755\n",
       "  0.6033476030755105\n",
       " -0.03655637427851586\n",
       "  0.4279101425701151\n",
       "  0.015203163364386573\n",
       " -0.4202180831804913\n",
       " -0.370047458248081\n",
       " -0.3413879093355321"
      ]
     },
     "metadata": {},
     "output_type": "display_data"
    },
    {
     "name": "stdout",
     "output_type": "stream",
     "text": [
      "And has corresponding eigenvalue:\n"
     ]
    },
    {
     "data": {
      "text/plain": [
       "380.82371257775554"
      ]
     },
     "metadata": {},
     "output_type": "display_data"
    },
    {
     "name": "stdout",
     "output_type": "stream",
     "text": [
      "\n",
      "Eigenvector number 3 is:"
     ]
    },
    {
     "data": {
      "text/plain": [
       "8-element Vector{Float64}:\n",
       " -0.25360418740957874\n",
       "  0.27324405248271455\n",
       " -0.5867753620222746\n",
       " -0.11108035160359431\n",
       "  0.6112811260590814\n",
       "  0.3374063824440383\n",
       "  0.010179994276021861\n",
       " -0.1294879131382918"
      ]
     },
     "metadata": {},
     "output_type": "display_data"
    },
    {
     "name": "stdout",
     "output_type": "stream",
     "text": [
      "And has corresponding eigenvalue:\n"
     ]
    },
    {
     "data": {
      "text/plain": [
       "316.6112888725979"
      ]
     },
     "metadata": {},
     "output_type": "display_data"
    },
    {
     "name": "stdout",
     "output_type": "stream",
     "text": [
      "\n",
      "Eigenvector number 4 is:"
     ]
    },
    {
     "data": {
      "text/plain": [
       "8-element Vector{Float64}:\n",
       " -0.14479027505085648\n",
       "  0.28515556005123127\n",
       "  0.38619850935107053\n",
       " -0.4310838100757833\n",
       "  0.19973712688819506\n",
       " -0.30792437131169925\n",
       "  0.5520123908990922\n",
       " -0.35115455981196486"
      ]
     },
     "metadata": {},
     "output_type": "display_data"
    },
    {
     "name": "stdout",
     "output_type": "stream",
     "text": [
      "And has corresponding eigenvalue:\n"
     ]
    },
    {
     "data": {
      "text/plain": [
       "185.83444412027958"
      ]
     },
     "metadata": {},
     "output_type": "display_data"
    },
    {
     "name": "stdout",
     "output_type": "stream",
     "text": [
      "\n",
      "Eigenvector number 5 is:"
     ]
    },
    {
     "data": {
      "text/plain": [
       "8-element Vector{Float64}:\n",
       " -0.017664417859922416\n",
       "  0.4253602654085433\n",
       " -0.4078677800266019\n",
       " -0.06503699991839602\n",
       " -0.6853129067817778\n",
       "  0.16333342881167237\n",
       "  0.38547950712171036\n",
       "  0.05696170670867869"
      ]
     },
     "metadata": {},
     "output_type": "display_data"
    },
    {
     "name": "stdout",
     "output_type": "stream",
     "text": [
      "And has corresponding eigenvalue:\n"
     ]
    },
    {
     "data": {
      "text/plain": [
       "74.94648539345816"
      ]
     },
     "metadata": {},
     "output_type": "display_data"
    },
    {
     "name": "stdout",
     "output_type": "stream",
     "text": [
      "\n",
      "Eigenvector number 6 is:"
     ]
    },
    {
     "data": {
      "text/plain": [
       "8-element Vector{Float64}:\n",
       " -0.5014680359460327\n",
       " -0.2388432661000973\n",
       " -0.1215065561743243\n",
       "  0.6357019236098919\n",
       "  0.05897685800826313\n",
       " -0.28315930677305284\n",
       "  0.43081039424468226\n",
       "  0.05786074408806446"
      ]
     },
     "metadata": {},
     "output_type": "display_data"
    },
    {
     "name": "stdout",
     "output_type": "stream",
     "text": [
      "And has corresponding eigenvalue:\n"
     ]
    },
    {
     "data": {
      "text/plain": [
       "45.27278198455453"
      ]
     },
     "metadata": {},
     "output_type": "display_data"
    },
    {
     "name": "stdout",
     "output_type": "stream",
     "text": [
      "\n",
      "Eigenvector number 7 is:"
     ]
    },
    {
     "data": {
      "text/plain": [
       "8-element Vector{Float64}:\n",
       "  0.6021546427501092\n",
       " -0.3104373074456427\n",
       " -0.16400780699191936\n",
       "  0.2273149350154011\n",
       "  0.04986095031691271\n",
       "  0.17667849492608365\n",
       "  0.33207741763012194\n",
       " -0.5643500754755785"
      ]
     },
     "metadata": {},
     "output_type": "display_data"
    },
    {
     "name": "stdout",
     "output_type": "stream",
     "text": [
      "And has corresponding eigenvalue:\n"
     ]
    },
    {
     "data": {
      "text/plain": [
       "23.701241446165888"
      ]
     },
     "metadata": {},
     "output_type": "display_data"
    },
    {
     "name": "stdout",
     "output_type": "stream",
     "text": [
      "\n",
      "Eigenvector number 8 is:"
     ]
    },
    {
     "data": {
      "text/plain": [
       "8-element Vector{Float64}:\n",
       " -0.3942384538645349\n",
       "  0.09202856509942431\n",
       "  0.4361751313517652\n",
       "  0.2240837200299576\n",
       " -0.1717457742789772\n",
       "  0.6214834143606667\n",
       " -0.12927103460524353\n",
       " -0.4039743558842078"
      ]
     },
     "metadata": {},
     "output_type": "display_data"
    },
    {
     "name": "stdout",
     "output_type": "stream",
     "text": [
      "And has corresponding eigenvalue:\n"
     ]
    },
    {
     "data": {
      "text/plain": [
       "13.225754959699774"
      ]
     },
     "metadata": {},
     "output_type": "display_data"
    },
    {
     "name": "stdout",
     "output_type": "stream",
     "text": [
      "\n",
      "A's singular vectors for matrix V in A's SVD are:\n",
      "Singular vector number 1 is:\n"
     ]
    },
    {
     "data": {
      "text/plain": [
       "8-element Vector{Float64}:\n",
       " 0.35136082247487804\n",
       " 0.3763818399002095\n",
       " 0.3237371058941957\n",
       " 0.3286405265190035\n",
       " 0.2875060706769486\n",
       " 0.2945645790246673\n",
       " 0.31026801569854606\n",
       " 0.5063375358020394"
      ]
     },
     "metadata": {},
     "output_type": "display_data"
    },
    {
     "name": "stdout",
     "output_type": "stream",
     "text": [
      "Singular vector number 2 is:\n"
     ]
    },
    {
     "data": {
      "text/plain": [
       "8-element Vector{Float64}:\n",
       " -0.13446246714199986\n",
       " -0.6145149653100952\n",
       "  0.06165940230197924\n",
       " -0.42226936888861333\n",
       " -0.041741132335195885\n",
       "  0.40523438581096294\n",
       "  0.3687783520891321\n",
       "  0.34673217042034815"
      ]
     },
     "metadata": {},
     "output_type": "display_data"
    },
    {
     "name": "stdout",
     "output_type": "stream",
     "text": [
      "Singular vector number 3 is:"
     ]
    },
    {
     "data": {
      "text/plain": [
       "8-element Vector{Float64}:\n",
       " -0.2618641573347747\n",
       "  0.2444004526946695\n",
       " -0.5815705398649463\n",
       " -0.13592696382362113\n",
       "  0.6114480151789907\n",
       "  0.3562360870043977\n",
       "  0.03305751175149655\n",
       " -0.11458414139462526"
      ]
     },
     "metadata": {},
     "output_type": "display_data"
    },
    {
     "name": "stdout",
     "output_type": "stream",
     "text": [
      "\n",
      "Singular vector number 4 is:\n"
     ]
    },
    {
     "data": {
      "text/plain": [
       "8-element Vector{Float64}:\n",
       "  0.14168977911716651\n",
       " -0.2813837227396289\n",
       " -0.3935758979517547\n",
       "  0.42992318919974126\n",
       " -0.19207110017692253\n",
       "  0.31191827481249473\n",
       " -0.552078623662145\n",
       "  0.3493367238365371"
      ]
     },
     "metadata": {},
     "output_type": "display_data"
    },
    {
     "name": "stdout",
     "output_type": "stream",
     "text": [
      "Singular vector number 5 is:\n"
     ]
    },
    {
     "data": {
      "text/plain": [
       "8-element Vector{Float64}:\n",
       "  0.016279171892507566\n",
       " -0.42603601228306925\n",
       "  0.4075128248518765\n",
       "  0.06682537331644675\n",
       "  0.6854630454405086\n",
       " -0.1641100949185373\n",
       " -0.38428981453502836\n",
       " -0.05679436933958514"
      ]
     },
     "metadata": {},
     "output_type": "display_data"
    },
    {
     "data": {
      "text/plain": [
       "8-element Vector{Float64}:\n",
       "  0.5015891838415605\n",
       "  0.23685729988522544\n",
       "  0.1233790243566879\n",
       " -0.6353841632853213\n",
       " -0.05580897256448246\n",
       "  0.28241750911344493\n",
       " -0.43256709496941037\n",
       " -0.05816278033605849"
      ]
     },
     "metadata": {},
     "output_type": "display_data"
    },
    {
     "name": "stdout",
     "output_type": "stream",
     "text": [
      "Singular vector number 6 is:\n",
      "Singular vector number 7 is:\n"
     ]
    },
    {
     "data": {
      "text/plain": [
       "8-element Vector{Float64}:\n",
       "  0.6022206153255303\n",
       " -0.31048401690461275\n",
       " -0.16418563883669587\n",
       "  0.22732074756374882\n",
       "  0.0499012843025556\n",
       "  0.17643798761033988\n",
       "  0.3321917950922549\n",
       " -0.5642042795627437"
      ]
     },
     "metadata": {},
     "output_type": "display_data"
    },
    {
     "name": "stdout",
     "output_type": "stream",
     "text": [
      "Singular vector number 8 is:\n"
     ]
    },
    {
     "data": {
      "text/plain": [
       "8-element Vector{Float64}:\n",
       " -0.3938768218942008\n",
       "  0.09183966117273942\n",
       "  0.4360753132162502\n",
       "  0.22422435716256298\n",
       " -0.17171535869363252\n",
       "  0.621588832271\n",
       " -0.12906804033445296\n",
       " -0.4043153284473653"
      ]
     },
     "metadata": {},
     "output_type": "display_data"
    },
    {
     "name": "stdout",
     "output_type": "stream",
     "text": [
      "A's singular vectors for matrix U in A's SVD are:\n",
      "Singular vector number 1 is:\n"
     ]
    },
    {
     "data": {
      "text/plain": [
       "8-element Vector{Float64}:\n",
       " 0.35136082247487804\n",
       " 0.3763818399002095\n",
       " 0.3237371058941957\n",
       " 0.3286405265190035\n",
       " 0.2875060706769486\n",
       " 0.2945645790246673\n",
       " 0.31026801569854606\n",
       " 0.5063375358020394"
      ]
     },
     "metadata": {},
     "output_type": "display_data"
    },
    {
     "name": "stdout",
     "output_type": "stream",
     "text": [
      "Singular vector number 2 is:\n"
     ]
    },
    {
     "data": {
      "text/plain": [
       "8-element Vector{Float64}:\n",
       "  0.10775382983545327\n",
       "  0.6356244759336097\n",
       " -0.11911648826083002\n",
       "  0.40658656978844104\n",
       "  0.10226985221743627\n",
       " -0.3677539301662794\n",
       " -0.36359088384543137\n",
       " -0.3563268928963543"
      ]
     },
     "metadata": {},
     "output_type": "display_data"
    },
    {
     "name": "stdout",
     "output_type": "stream",
     "text": [
      "Singular vector number 3 is:\n"
     ]
    },
    {
     "data": {
      "text/plain": [
       "8-element Vector{Float64}:\n",
       " -0.27853379311488524\n",
       "  0.1540105651328689\n",
       " -0.5668352883785468\n",
       " -0.1951390309809521\n",
       "  0.5993972654035542\n",
       "  0.41063938223714014\n",
       "  0.08566497714236794\n",
       " -0.06385854704698624"
      ]
     },
     "metadata": {},
     "output_type": "display_data"
    },
    {
     "name": "stdout",
     "output_type": "stream",
     "text": [
      "Singular vector number 4 is:\n"
     ]
    },
    {
     "data": {
      "text/plain": [
       "8-element Vector{Float64}:\n",
       " -0.14150897886228334\n",
       "  0.28128021660609265\n",
       "  0.39394552047274967\n",
       " -0.4297981826037624\n",
       "  0.19168033791736275\n",
       " -0.3121837417520839\n",
       "  0.5520246645425246\n",
       " -0.34929332509455097"
      ]
     },
     "metadata": {},
     "output_type": "display_data"
    },
    {
     "name": "stdout",
     "output_type": "stream",
     "text": [
      "Singular vector number 5 is:\n"
     ]
    },
    {
     "data": {
      "text/plain": [
       "8-element Vector{Float64}:\n",
       " -0.016262189912691027\n",
       "  0.42604403980048755\n",
       " -0.40750863703018686\n",
       " -0.06684690003569217\n",
       " -0.6854649303289657\n",
       "  0.1641196507795538\n",
       "  0.384275179863193\n",
       "  0.056792391122013605"
      ]
     },
     "metadata": {},
     "output_type": "display_data"
    },
    {
     "name": "stdout",
     "output_type": "stream",
     "text": [
      "Singular vector number 6 is:\n"
     ]
    },
    {
     "data": {
      "text/plain": [
       "8-element Vector{Float64}:\n",
       "  0.5015907494037682\n",
       "  0.23681773135439324\n",
       "  0.12341682697445912\n",
       " -0.635377936899505\n",
       " -0.0557453538219592\n",
       "  0.2824022944299186\n",
       " -0.43260272491583596\n",
       " -0.05816810443005255"
      ]
     },
     "metadata": {},
     "output_type": "display_data"
    },
    {
     "name": "stdout",
     "output_type": "stream",
     "text": [
      "Singular vector number 7 is:\n"
     ]
    },
    {
     "data": {
      "text/plain": [
       "8-element Vector{Float64}:\n",
       "  0.6022191959178412\n",
       " -0.3104829537785075\n",
       " -0.16418434972822868\n",
       "  0.22732225992855612\n",
       "  0.04990087109688192\n",
       "  0.17643959910188997\n",
       "  0.3321910331416273\n",
       " -0.5642061266586615"
      ]
     },
     "metadata": {},
     "output_type": "display_data"
    },
    {
     "name": "stdout",
     "output_type": "stream",
     "text": [
      "Singular vector number 8 is:\n"
     ]
    },
    {
     "data": {
      "text/plain": [
       "8-element Vector{Float64}:\n",
       " -0.3405179253335854\n",
       "  0.29767210159497315\n",
       "  0.3649656831408873\n",
       "  0.3426645868690311\n",
       " -0.12033291313833257\n",
       "  0.4720313360557701\n",
       " -0.24017315312850274\n",
       " -0.4998431332000915"
      ]
     },
     "metadata": {},
     "output_type": "display_data"
    },
    {
     "name": "stdout",
     "output_type": "stream",
     "text": [
      "A's singular values are:\n"
     ]
    },
    {
     "data": {
      "text/plain": [
       "8-element Vector{Float64}:\n",
       " 3706.619737743812\n",
       "  380.9711771879006\n",
       "  316.44171865432446\n",
       "  185.82225295647052\n",
       "   74.94671524695414\n",
       "   45.272401503073965\n",
       "   23.701242414976036\n",
       "   13.225752844573659"
      ]
     },
     "metadata": {},
     "output_type": "display_data"
    },
    {
     "name": "stdout",
     "output_type": "stream",
     "text": [
      "-----------------------------------------------------\n",
      "Julia's Output to compare\n"
     ]
    },
    {
     "data": {
      "text/plain": [
       "8-element Vector{Float64}:\n",
       "   13.225752844526445\n",
       "   23.70124241494957\n",
       "   45.272401501636026\n",
       "   74.94671524727146\n",
       "  185.8222528779295\n",
       "  316.4393799764263\n",
       "  380.97251739344813\n",
       " 3706.619737743812"
      ]
     },
     "metadata": {},
     "output_type": "display_data"
    },
    {
     "data": {
      "text/plain": [
       "8×8 Matrix{Float64}:\n",
       "  0.393879   -0.602221   0.501589   …   0.262792    0.133212   -0.351361\n",
       " -0.0918407   0.310483   0.236862      -0.240159    0.615666   -0.376382\n",
       " -0.436076    0.164185   0.123375       0.581135   -0.0644282  -0.323737\n",
       " -0.224224   -0.22732   -0.635385       0.138846    0.421613   -0.328641\n",
       "  0.171716   -0.049901  -0.0558159     -0.611157    0.0446528  -0.287506\n",
       " -0.621588   -0.176439   0.282419   …  -0.359027   -0.403529   -0.294565\n",
       "  0.129069   -0.332191  -0.432563      -0.0356102  -0.368613   -0.310268\n",
       "  0.404314    0.564205  -0.0581619      0.112194   -0.347271   -0.506338"
      ]
     },
     "metadata": {},
     "output_type": "display_data"
    },
    {
     "data": {
      "text/plain": [
       "SVD{Float64, Float64, Matrix{Float64}, Vector{Float64}}\n",
       "U factor:\n",
       "8×8 Matrix{Float64}:\n",
       " -0.351361   0.133212    0.262792   …   0.501589   -0.602221   0.393879\n",
       " -0.376382   0.615666   -0.240159       0.236862    0.310483  -0.0918407\n",
       " -0.323737  -0.0644282   0.581135       0.123375    0.164185  -0.436076\n",
       " -0.328641   0.421613    0.138846      -0.635385   -0.22732   -0.224224\n",
       " -0.287506   0.0446528  -0.611157      -0.0558159  -0.049901   0.171716\n",
       " -0.294565  -0.403529   -0.359027   …   0.282419   -0.176439  -0.621588\n",
       " -0.310268  -0.368613   -0.0356102     -0.432563   -0.332191   0.129069\n",
       " -0.506338  -0.347271    0.112194      -0.0581619   0.564205   0.404314\n",
       "singular values:\n",
       "8-element Vector{Float64}:\n",
       " 3706.6197377438125\n",
       "  380.9725173934479\n",
       "  316.4393799764264\n",
       "  185.8222528779295\n",
       "   74.9467152472715\n",
       "   45.27240150163626\n",
       "   23.70124241494977\n",
       "   13.225752844526577\n",
       "Vt factor:\n",
       "8×8 Matrix{Float64}:\n",
       " -0.351361  -0.376382   -0.323737   …  -0.294565  -0.310268   -0.506338\n",
       "  0.133212   0.615666   -0.0644282     -0.403529  -0.368613   -0.347271\n",
       "  0.262792  -0.240159    0.581135      -0.359027  -0.0356102   0.112194\n",
       " -0.14168    0.281375    0.393597      -0.311931   0.552078   -0.349332\n",
       " -0.016281   0.426035   -0.407513       0.164109   0.384291    0.0567946\n",
       "  0.501589   0.236862    0.123375   …   0.282419  -0.432563   -0.0581619\n",
       " -0.602221   0.310483    0.164185      -0.176439  -0.332191    0.564205\n",
       "  0.393879  -0.0918407  -0.436076      -0.621588   0.129069    0.404314"
      ]
     },
     "metadata": {},
     "output_type": "display_data"
    }
   ],
   "source": [
    "#Running our functions\n",
    "A = rand_matrix_generator(8, 1, 14)\n",
    "display_computations(A, 11, 11)"
   ]
  },
  {
   "cell_type": "code",
   "execution_count": 140,
   "metadata": {},
   "outputs": [
    {
     "data": {
      "text/plain": [
       "2×2 Matrix{Int64}:\n",
       " 7  1\n",
       " 1  7"
      ]
     },
     "execution_count": 140,
     "metadata": {},
     "output_type": "execute_result"
    }
   ],
   "source": [
    "A_QR = [[7 1]; [1 7]]"
   ]
  },
  {
   "cell_type": "code",
   "execution_count": 141,
   "metadata": {},
   "outputs": [
    {
     "data": {
      "text/plain": [
       "qr_method_example (generic function with 1 method)"
      ]
     },
     "execution_count": 141,
     "metadata": {},
     "output_type": "execute_result"
    }
   ],
   "source": [
    "# Function to approximate the leading eigenvalue of a matrix using the QR method (example)\n",
    "function qr_method_example(A, max_iter)\n",
    "    # Initialize A_k with the input matrix A\n",
    "    A_k = copy(A)\n",
    "\n",
    "    # Iterate up to a maximum number of iterations\n",
    "    for k = 1:max_iter\n",
    "        # Perform QR decomposition on A_k\n",
    "        Q, R = qr(A_k)\n",
    "        print(\"Q: \")\n",
    "        display(Q)\n",
    "        print(\"R: \")\n",
    "        display(R)\n",
    "        # Form the next matrix A_k by multiplying R and Q\n",
    "        A_k = R * Q\n",
    "    end\n",
    "\n",
    "    print(\"The leading eigevalue of A is: \")\n",
    "    # # Return the leading eigenvalue, which is the first diagonal element of A_k\n",
    "    display(A_k[1,1])\n",
    "    return A_k[1,1]\n",
    "end"
   ]
  },
  {
   "cell_type": "code",
   "execution_count": 142,
   "metadata": {},
   "outputs": [
    {
     "name": "stdout",
     "output_type": "stream",
     "text": [
      "Q: "
     ]
    },
    {
     "data": {
      "text/plain": [
       "2×2 LinearAlgebra.QRCompactWYQ{Float64, Matrix{Float64}, Matrix{Float64}}:\n",
       " -0.989949  -0.141421\n",
       " -0.141421   0.989949"
      ]
     },
     "metadata": {},
     "output_type": "display_data"
    },
    {
     "name": "stdout",
     "output_type": "stream",
     "text": [
      "R: "
     ]
    },
    {
     "data": {
      "text/plain": [
       "2×2 Matrix{Float64}:\n",
       " -7.07107  -1.9799\n",
       "  0.0       6.78823"
      ]
     },
     "metadata": {},
     "output_type": "display_data"
    },
    {
     "name": "stdout",
     "output_type": "stream",
     "text": [
      "Q: "
     ]
    },
    {
     "data": {
      "text/plain": [
       "2×2 LinearAlgebra.QRCompactWYQ{Float64, Matrix{Float64}, Matrix{Float64}}:\n",
       " -0.991417  0.130736\n",
       "  0.130736  0.991417"
      ]
     },
     "metadata": {},
     "output_type": "display_data"
    },
    {
     "name": "stdout",
     "output_type": "stream",
     "text": [
      "R: "
     ]
    },
    {
     "data": {
      "text/plain": [
       "2×2 Matrix{Float64}:\n",
       " -7.34302  1.83031\n",
       "  0.0      6.53682"
      ]
     },
     "metadata": {},
     "output_type": "display_data"
    },
    {
     "name": "stdout",
     "output_type": "stream",
     "text": [
      "Q: "
     ]
    },
    {
     "data": {
      "text/plain": [
       "2×2 LinearAlgebra.QRCompactWYQ{Float64, Matrix{Float64}, Matrix{Float64}}:\n",
       " -0.993603  -0.112927\n",
       " -0.112927   0.993603"
      ]
     },
     "metadata": {},
     "output_type": "display_data"
    },
    {
     "name": "stdout",
     "output_type": "stream",
     "text": [
      "R: "
     ]
    },
    {
     "data": {
      "text/plain": [
       "2×2 Matrix{Float64}:\n",
       " -7.5677  -1.58098\n",
       "  0.0      6.34275"
      ]
     },
     "metadata": {},
     "output_type": "display_data"
    },
    {
     "name": "stdout",
     "output_type": "stream",
     "text": [
      "Q: "
     ]
    },
    {
     "data": {
      "text/plain": [
       "2×2 LinearAlgebra.QRCompactWYQ{Float64, Matrix{Float64}, Matrix{Float64}}:\n",
       " -0.995699   0.0926481\n",
       "  0.0926481  0.995699"
      ]
     },
     "metadata": {},
     "output_type": "display_data"
    },
    {
     "name": "stdout",
     "output_type": "stream",
     "text": [
      "R: "
     ]
    },
    {
     "data": {
      "text/plain": [
       "2×2 Matrix{Float64}:\n",
       " -7.73108  1.29707\n",
       "  0.0      6.20871"
      ]
     },
     "metadata": {},
     "output_type": "display_data"
    },
    {
     "name": "stdout",
     "output_type": "stream",
     "text": [
      "Q: "
     ]
    },
    {
     "data": {
      "text/plain": [
       "2×2 LinearAlgebra.QRCompactWYQ{Float64, Matrix{Float64}, Matrix{Float64}}:\n",
       " -0.997304   -0.0733787\n",
       " -0.0733787   0.997304"
      ]
     },
     "metadata": {},
     "output_type": "display_data"
    },
    {
     "name": "stdout",
     "output_type": "stream",
     "text": [
      "R: "
     ]
    },
    {
     "data": {
      "text/plain": [
       "2×2 Matrix{Float64}:\n",
       " -7.83913  -1.0273\n",
       "  0.0       6.12313"
      ]
     },
     "metadata": {},
     "output_type": "display_data"
    },
    {
     "name": "stdout",
     "output_type": "stream",
     "text": [
      "The leading eigevalue of A is: "
     ]
    },
    {
     "data": {
      "text/plain": [
       "7.893377271188352"
      ]
     },
     "metadata": {},
     "output_type": "display_data"
    },
    {
     "data": {
      "text/plain": [
       "7.893377271188352"
      ]
     },
     "execution_count": 142,
     "metadata": {},
     "output_type": "execute_result"
    }
   ],
   "source": [
    "qr_method_example(A_QR, 5)"
   ]
  },
  {
   "cell_type": "code",
   "execution_count": 143,
   "metadata": {},
   "outputs": [
    {
     "data": {
      "text/plain": [
       "3×3 Matrix{Int64}:\n",
       " 7  3  5\n",
       " 3  5  1\n",
       " 5  1  1"
      ]
     },
     "execution_count": 143,
     "metadata": {},
     "output_type": "execute_result"
    }
   ],
   "source": [
    "A_Power = [[7 3 5]; [3 5 1]; [5 1 1]]"
   ]
  },
  {
   "cell_type": "code",
   "execution_count": 144,
   "metadata": {},
   "outputs": [
    {
     "data": {
      "text/plain": [
       "power_method_example (generic function with 1 method)"
      ]
     },
     "execution_count": 144,
     "metadata": {},
     "output_type": "execute_result"
    }
   ],
   "source": [
    "# Define a function to compute the leading eigenvalue using the Power Method (Example)\n",
    "function power_method_example(A, max_iter)\n",
    "    # Determine the size of the matrix A and initialize a random vector of this size \n",
    "    n, _ = size(A)\n",
    "    v = rand(n)  # Start with a random vector\n",
    "    v = v / norm(v)  # Normalize the vector\n",
    "\n",
    "    # Iterate for a maximum number of iterations or until convergence\n",
    "    for _ = 1:max_iter\n",
    "        # Multiply the vector by the matrix A\n",
    "        v_new = A * v        \n",
    "        print(\"The updated vector is \")\n",
    "        display(v_new)\n",
    "        # Normalize the resulting vector\n",
    "        v_new = v_new / norm(v_new)\n",
    "        # Update the vector for the next iteration\n",
    "        v = v_new\n",
    "    end\n",
    "\n",
    "    # Calculate the leading eigenvalue which is done by the Rayleigh quotient: (v'Av) / (v'v)\n",
    "    eigenvalue = dot(A * v, v) / dot(v, v)\n",
    "    print(\"The leading eigenvalue is \")\n",
    "    display(eigenvalue)\n",
    "    print(\"The leading eigenvector is \")\n",
    "    display(v)\n",
    "    return eigenvalue, v\n",
    "end"
   ]
  },
  {
   "cell_type": "code",
   "execution_count": 153,
   "metadata": {},
   "outputs": [
    {
     "name": "stdout",
     "output_type": "stream",
     "text": [
      "The updated vector is "
     ]
    },
    {
     "data": {
      "text/plain": [
       "3-element Vector{Float64}:\n",
       " 8.161030539868374\n",
       " 4.627094182971236\n",
       " 3.3134414620023938"
      ]
     },
     "metadata": {},
     "output_type": "display_data"
    },
    {
     "name": "stdout",
     "output_type": "stream",
     "text": [
      "The updated vector is "
     ]
    },
    {
     "data": {
      "text/plain": [
       "3-element Vector{Float64}:\n",
       " 8.802075512800766\n",
       " 5.119083565097348\n",
       " 4.899340934828883"
      ]
     },
     "metadata": {},
     "output_type": "display_data"
    },
    {
     "name": "stdout",
     "output_type": "stream",
     "text": [
      "The updated vector is "
     ]
    },
    {
     "data": {
      "text/plain": [
       "3-element Vector{Float64}:\n",
       " 8.979684450238407\n",
       " 5.035582211875657\n",
       " 4.7814018188575576"
      ]
     },
     "metadata": {},
     "output_type": "display_data"
    },
    {
     "name": "stdout",
     "output_type": "stream",
     "text": [
      "The updated vector is "
     ]
    },
    {
     "data": {
      "text/plain": [
       "3-element Vector{Float64}:\n",
       " 8.974382615152209\n",
       " 5.012466428032355\n",
       " 4.820158385228858"
      ]
     },
     "metadata": {},
     "output_type": "display_data"
    },
    {
     "name": "stdout",
     "output_type": "stream",
     "text": [
      "The updated vector is "
     ]
    },
    {
     "data": {
      "text/plain": [
       "3-element Vector{Float64}:\n",
       " 8.980518953209506\n",
       " 5.0034304465975765\n",
       " 4.818365892732459"
      ]
     },
     "metadata": {},
     "output_type": "display_data"
    },
    {
     "name": "stdout",
     "output_type": "stream",
     "text": [
      "The leading eigenvalue is "
     ]
    },
    {
     "data": {
      "text/plain": [
       "11.35345127702423"
      ]
     },
     "metadata": {},
     "output_type": "display_data"
    },
    {
     "name": "stdout",
     "output_type": "stream",
     "text": [
      "The leading eigenvector is "
     ]
    },
    {
     "data": {
      "text/plain": [
       "3-element Vector{Float64}:\n",
       " 0.7909951454764633\n",
       " 0.4406971595526109\n",
       " 0.42439685837071095"
      ]
     },
     "metadata": {},
     "output_type": "display_data"
    },
    {
     "data": {
      "text/plain": [
       "(11.35345127702423, [0.7909951454764633, 0.4406971595526109, 0.42439685837071095])"
      ]
     },
     "execution_count": 153,
     "metadata": {},
     "output_type": "execute_result"
    }
   ],
   "source": [
    "power_method_example(A_Power, 5)"
   ]
  },
  {
   "cell_type": "code",
   "execution_count": 145,
   "metadata": {},
   "outputs": [
    {
     "data": {
      "text/plain": [
       "3×3 Matrix{Int64}:\n",
       " 7  3  5\n",
       " 3  5  1\n",
       " 5  1  1"
      ]
     },
     "execution_count": 145,
     "metadata": {},
     "output_type": "execute_result"
    }
   ],
   "source": [
    "A_Deflation = [[7 3 5]; [3 5 1]; [5 1 1]]"
   ]
  },
  {
   "cell_type": "code",
   "execution_count": 156,
   "metadata": {},
   "outputs": [
    {
     "data": {
      "text/plain": [
       "deflation_example (generic function with 1 method)"
      ]
     },
     "execution_count": 156,
     "metadata": {},
     "output_type": "execute_result"
    }
   ],
   "source": [
    "# Function to find all eigenvalues and eigenvectors of a symmetric matrix using deflation (Example)\n",
    "function deflation_example(A, max_iter)\n",
    "    k = size(A, 1)\n",
    "    eigenvalues = []\n",
    "    eigenvectors = []\n",
    "\n",
    "    # Main loop for finding all eigenvalues and eigenvectors\n",
    "    for i = 1:k\n",
    "        eigenvalue, eigenvector = power_method(A, max_iter)\n",
    "        push!(eigenvalues, eigenvalue)\n",
    "        push!(eigenvectors, eigenvector)\n",
    "        A = A - eigenvalue * eigenvector * transpose(eigenvector)\n",
    "        print(\"The new matrix is \")\n",
    "        display(A)\n",
    "    end\n",
    "\n",
    "    print(\"The list of eigenvalues is\")\n",
    "    for i = 1:size(eigenvalues, 1)\n",
    "        display(eigenvalues[i])\n",
    "    end\n",
    "    print(\"The list of eigenvectors is\")\n",
    "    for i = 1:size(eigenvectors, 1)\n",
    "        display(eigenvectors[i])\n",
    "    end\n",
    "    return eigenvalues, eigenvectors\n",
    "end"
   ]
  },
  {
   "cell_type": "code",
   "execution_count": 157,
   "metadata": {},
   "outputs": [
    {
     "name": "stdout",
     "output_type": "stream",
     "text": [
      "The new matrix is "
     ]
    },
    {
     "data": {
      "text/plain": [
       "3×3 Matrix{Float64}:\n",
       " -0.107028  -0.953945   1.18611\n",
       " -0.953945   2.80025   -1.12183\n",
       "  1.18611   -1.12183   -1.04667"
      ]
     },
     "metadata": {},
     "output_type": "display_data"
    },
    {
     "name": "stdout",
     "output_type": "stream",
     "text": [
      "The new matrix is "
     ]
    },
    {
     "data": {
      "text/plain": [
       "3×3 Matrix{Float64}:\n",
       " -0.149139  -0.680337   0.981404\n",
       " -0.680337   1.02252    0.208205\n",
       "  0.981404   0.208205  -2.04176"
      ]
     },
     "metadata": {},
     "output_type": "display_data"
    },
    {
     "name": "stdout",
     "output_type": "stream",
     "text": [
      "The new matrix is "
     ]
    },
    {
     "data": {
      "text/plain": [
       "3×3 Matrix{Float64}:\n",
       "  0.272566   -0.539916   0.0513521\n",
       " -0.539916    1.06927   -0.101489\n",
       "  0.0513521  -0.101489   0.00943407"
      ]
     },
     "metadata": {},
     "output_type": "display_data"
    },
    {
     "name": "stdout",
     "output_type": "stream",
     "text": [
      "The list of eigenvalues is"
     ]
    },
    {
     "data": {
      "text/plain": [
       "11.353452085530611"
      ]
     },
     "metadata": {},
     "output_type": "display_data"
    },
    {
     "data": {
      "text/plain": [
       "2.8149303216918904"
      ]
     },
     "metadata": {},
     "output_type": "display_data"
    },
    {
     "data": {
      "text/plain": [
       "-2.5196568848768055"
      ]
     },
     "metadata": {},
     "output_type": "display_data"
    },
    {
     "name": "stdout",
     "output_type": "stream",
     "text": [
      "The list of eigenvectors is"
     ]
    },
    {
     "data": {
      "text/plain": [
       "3-element Vector{Float64}:\n",
       " 0.7911886727089043\n",
       " 0.4401721932271454\n",
       " 0.42458088097172625"
      ]
     },
     "metadata": {},
     "output_type": "display_data"
    },
    {
     "data": {
      "text/plain": [
       "3-element Vector{Float64}:\n",
       " -0.12230960774710155\n",
       "  0.7946934140708866\n",
       " -0.5945609619585772"
      ]
     },
     "metadata": {},
     "output_type": "display_data"
    },
    {
     "data": {
      "text/plain": [
       "3-element Vector{Float64}:\n",
       "  0.40910363121697507\n",
       "  0.13622557702085586\n",
       " -0.9022620523386873"
      ]
     },
     "metadata": {},
     "output_type": "display_data"
    },
    {
     "data": {
      "text/plain": [
       "(Any[11.353452085530611, 2.8149303216918904, -2.5196568848768055], Any[[0.7911886727089043, 0.4401721932271454, 0.42458088097172625], [-0.12230960774710155, 0.7946934140708866, -0.5945609619585772], [0.40910363121697507, 0.13622557702085586, -0.9022620523386873]])"
      ]
     },
     "execution_count": 157,
     "metadata": {},
     "output_type": "execute_result"
    }
   ],
   "source": [
    "deflation_example(A_Deflation, 5)"
   ]
  }
 ],
 "metadata": {
  "kernelspec": {
   "display_name": "Julia 1.9.3",
   "language": "julia",
   "name": "julia-1.9"
  },
  "language_info": {
   "file_extension": ".jl",
   "mimetype": "application/julia",
   "name": "julia",
   "version": "1.9.3"
  }
 },
 "nbformat": 4,
 "nbformat_minor": 5
}
